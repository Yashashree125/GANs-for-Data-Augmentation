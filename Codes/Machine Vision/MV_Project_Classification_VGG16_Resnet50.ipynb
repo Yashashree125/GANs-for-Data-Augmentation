{
  "nbformat": 4,
  "nbformat_minor": 0,
  "metadata": {
    "colab": {
      "provenance": [],
      "gpuType": "T4"
    },
    "kernelspec": {
      "name": "python3",
      "display_name": "Python 3"
    },
    "language_info": {
      "name": "python"
    },
    "accelerator": "GPU"
  },
  "cells": [
    {
      "cell_type": "code",
      "execution_count": null,
      "metadata": {
        "colab": {
          "base_uri": "https://localhost:8080/"
        },
        "id": "C9EnJ9U34wCF",
        "outputId": "56cab0c8-9a42-4395-be6f-9f3e23070cd8"
      },
      "outputs": [
        {
          "output_type": "stream",
          "name": "stdout",
          "text": [
            "Collecting split-folders\n",
            "  Downloading split_folders-0.5.1-py3-none-any.whl (8.4 kB)\n",
            "Installing collected packages: split-folders\n",
            "Successfully installed split-folders-0.5.1\n"
          ]
        }
      ],
      "source": [
        "pip install split-folders"
      ]
    },
    {
      "cell_type": "code",
      "source": [
        "import splitfolders\n",
        "import os\n",
        "path = \"/content/drive/MyDrive/new_garbage_classification\"\n",
        "print(os.listdir(path))"
      ],
      "metadata": {
        "colab": {
          "base_uri": "https://localhost:8080/"
        },
        "id": "0C4UXROV6qEP",
        "outputId": "b687d21e-faf8-420f-f8e6-7c47c7268199"
      },
      "execution_count": null,
      "outputs": [
        {
          "output_type": "stream",
          "name": "stdout",
          "text": [
            "['plastic', 'cardboard', 'biological', 'metal', 'paper', 'trash']\n"
          ]
        }
      ]
    },
    {
      "cell_type": "code",
      "source": [
        "output_path = \"/content/drive/MyDrive/Splitted_grabage_dataset\"\n",
        "\n",
        "splitfolders.ratio(path, seed=1337, output=output_path, ratio=(0.8, 0.2), group_prefix=None)"
      ],
      "metadata": {
        "colab": {
          "base_uri": "https://localhost:8080/"
        },
        "id": "qUcepdFO7bkC",
        "outputId": "f31406ab-f8b9-40dc-8dd9-a763a61bae3c"
      },
      "execution_count": null,
      "outputs": [
        {
          "output_type": "stream",
          "name": "stderr",
          "text": [
            "Copying files: 5340 files [02:21, 37.64 files/s]\n"
          ]
        }
      ]
    },
    {
      "cell_type": "code",
      "source": [
        "from tensorflow.keras.layers import Input, Lambda, Dense, Flatten\n",
        "from tensorflow.keras.models import Model\n",
        "from tensorflow.keras.applications.resnet50 import ResNet50, preprocess_input\n",
        "from tensorflow.keras.preprocessing import image\n",
        "from tensorflow.keras.preprocessing.image import ImageDataGenerator, load_img\n",
        "from tensorflow.keras.models import Sequential\n",
        "\n",
        "import numpy as np\n",
        "from glob import glob\n",
        "import matplotlib.pyplot as plt"
      ],
      "metadata": {
        "id": "rOqN9_vk_v-p"
      },
      "execution_count": null,
      "outputs": []
    },
    {
      "cell_type": "code",
      "source": [
        "train_Path = '/content/drive/MyDrive/Splitted_grabage_dataset/train'\n",
        "test_Path = '/content/drive/MyDrive/Splitted_grabage_dataset/val'"
      ],
      "metadata": {
        "id": "j96ZMIHl75zQ"
      },
      "execution_count": null,
      "outputs": []
    },
    {
      "cell_type": "code",
      "source": [
        "IMAGE_SIZE = [224, 224]"
      ],
      "metadata": {
        "id": "9kcorJNP_koM"
      },
      "execution_count": null,
      "outputs": []
    },
    {
      "cell_type": "code",
      "source": [
        "resnet = ResNet50(\n",
        "    input_shape = IMAGE_SIZE + [3], # Making the image into 3 Channel, so concating 3.\n",
        "    weights = 'imagenet', # Default weights.\n",
        "    include_top = False   #\n",
        ")"
      ],
      "metadata": {
        "colab": {
          "base_uri": "https://localhost:8080/"
        },
        "id": "flJ4_3lC_na3",
        "outputId": "d5a0b3d8-0b8c-4b73-f754-e4ba9f376b26"
      },
      "execution_count": null,
      "outputs": [
        {
          "output_type": "stream",
          "name": "stdout",
          "text": [
            "Downloading data from https://storage.googleapis.com/tensorflow/keras-applications/resnet/resnet50_weights_tf_dim_ordering_tf_kernels_notop.h5\n",
            "94765736/94765736 [==============================] - 5s 0us/step\n"
          ]
        }
      ]
    },
    {
      "cell_type": "code",
      "source": [
        "folders = glob(train_Path + '/*')\n",
        "folders"
      ],
      "metadata": {
        "colab": {
          "base_uri": "https://localhost:8080/"
        },
        "id": "Rd5wwsDK_1-2",
        "outputId": "4a33a2cc-4e2e-46f6-c983-95c198cc0ffa"
      },
      "execution_count": null,
      "outputs": [
        {
          "output_type": "execute_result",
          "data": {
            "text/plain": [
              "['/content/drive/MyDrive/Splitted_grabage_dataset/train/metal',\n",
              " '/content/drive/MyDrive/Splitted_grabage_dataset/train/biological',\n",
              " '/content/drive/MyDrive/Splitted_grabage_dataset/train/plastic',\n",
              " '/content/drive/MyDrive/Splitted_grabage_dataset/train/cardboard',\n",
              " '/content/drive/MyDrive/Splitted_grabage_dataset/train/paper',\n",
              " '/content/drive/MyDrive/Splitted_grabage_dataset/train/trash']"
            ]
          },
          "metadata": {},
          "execution_count": 19
        }
      ]
    },
    {
      "cell_type": "code",
      "source": [
        "garbage_label = ['metal','biological', 'plastic', 'cardboard','paper','trash']"
      ],
      "metadata": {
        "id": "r37_QbU2_-z-"
      },
      "execution_count": null,
      "outputs": []
    },
    {
      "cell_type": "code",
      "source": [
        "len(folders)"
      ],
      "metadata": {
        "colab": {
          "base_uri": "https://localhost:8080/"
        },
        "id": "U_wwN_l5CbO9",
        "outputId": "0095ec10-4c31-4b40-8f01-1f67a3d8c8cb"
      },
      "execution_count": null,
      "outputs": [
        {
          "output_type": "execute_result",
          "data": {
            "text/plain": [
              "6"
            ]
          },
          "metadata": {},
          "execution_count": 21
        }
      ]
    },
    {
      "cell_type": "markdown",
      "source": [
        "##Resnet-50"
      ],
      "metadata": {
        "id": "dCEMG-nbRjnL"
      }
    },
    {
      "cell_type": "code",
      "source": [
        "x = Flatten() (resnet.output)"
      ],
      "metadata": {
        "id": "p8gKE-5sAXht"
      },
      "execution_count": null,
      "outputs": []
    },
    {
      "cell_type": "code",
      "source": [
        "prediction = Dense(len(folders), activation = 'softmax')(x)"
      ],
      "metadata": {
        "id": "1pykA3plAZjb"
      },
      "execution_count": null,
      "outputs": []
    },
    {
      "cell_type": "code",
      "source": [
        "model = Model(inputs = resnet.input, outputs = prediction)"
      ],
      "metadata": {
        "id": "zb2rAtiKAbVX"
      },
      "execution_count": null,
      "outputs": []
    },
    {
      "cell_type": "code",
      "source": [
        "model.compile (\n",
        "    loss = 'categorical_crossentropy',\n",
        "    optimizer = 'adam',\n",
        "    metrics = ['accuracy']\n",
        ")"
      ],
      "metadata": {
        "id": "jjK7TRwhAf5F"
      },
      "execution_count": null,
      "outputs": []
    },
    {
      "cell_type": "code",
      "source": [
        "train_datagen = ImageDataGenerator(\n",
        "    rescale = 1./255,\n",
        "    shear_range = 0.2,\n",
        "    zoom_range = 0.2,\n",
        "    horizontal_flip = True\n",
        ")\n",
        "\n",
        "test_datagen = ImageDataGenerator(\n",
        "    rescale = 1./255\n",
        ")"
      ],
      "metadata": {
        "id": "xqb2lLj7Al63"
      },
      "execution_count": null,
      "outputs": []
    },
    {
      "cell_type": "code",
      "source": [
        "training_set = train_datagen.flow_from_directory(\n",
        "    train_Path,\n",
        "    target_size = IMAGE_SIZE,\n",
        "    batch_size = 32,\n",
        "    class_mode = 'categorical' # As we have more than 2 so using categorical.. for 2 we might have used binary.\n",
        ")"
      ],
      "metadata": {
        "colab": {
          "base_uri": "https://localhost:8080/"
        },
        "id": "i4U5Pu9dApzc",
        "outputId": "7146be1c-f4f3-4ecd-fb49-7d4e14dbbefd"
      },
      "execution_count": null,
      "outputs": [
        {
          "output_type": "stream",
          "name": "stdout",
          "text": [
            "Found 3787 images belonging to 6 classes.\n"
          ]
        }
      ]
    },
    {
      "cell_type": "code",
      "source": [
        "test_set = train_datagen.flow_from_directory(\n",
        "    test_Path,\n",
        "    target_size = IMAGE_SIZE,\n",
        "    batch_size = 32,\n",
        "    class_mode = 'categorical'\n",
        ")"
      ],
      "metadata": {
        "colab": {
          "base_uri": "https://localhost:8080/"
        },
        "id": "ypq0iVxUAsxM",
        "outputId": "502b4f8e-05c4-43d3-f901-a4e75ae85427"
      },
      "execution_count": null,
      "outputs": [
        {
          "output_type": "stream",
          "name": "stdout",
          "text": [
            "Found 890 images belonging to 6 classes.\n"
          ]
        }
      ]
    },
    {
      "cell_type": "code",
      "source": [
        "history = model.fit_generator(\n",
        "    training_set,\n",
        "    validation_data = test_set,\n",
        "    epochs = 10,\n",
        "    steps_per_epoch = len(training_set),\n",
        "    validation_steps = len(test_set)\n",
        ")"
      ],
      "metadata": {
        "colab": {
          "base_uri": "https://localhost:8080/"
        },
        "id": "FAEeeXRvAv9s",
        "outputId": "919f229e-ba7a-4aac-c866-e65b10f2b10e"
      },
      "execution_count": null,
      "outputs": [
        {
          "output_type": "stream",
          "name": "stderr",
          "text": [
            "<ipython-input-29-04f65d1b5538>:1: UserWarning: `Model.fit_generator` is deprecated and will be removed in a future version. Please use `Model.fit`, which supports generators.\n",
            "  history = model.fit_generator(\n"
          ]
        },
        {
          "output_type": "stream",
          "name": "stdout",
          "text": [
            "Epoch 1/10\n",
            "119/119 [==============================] - 2608s 22s/step - loss: 4.4597 - accuracy: 0.4938 - val_loss: 91.3048 - val_accuracy: 0.2000\n",
            "Epoch 2/10\n",
            "119/119 [==============================] - 88s 741ms/step - loss: 1.4196 - accuracy: 0.6279 - val_loss: 5.5813 - val_accuracy: 0.2000\n",
            "Epoch 3/10\n",
            "119/119 [==============================] - 88s 738ms/step - loss: 1.4385 - accuracy: 0.6765 - val_loss: 4.3425 - val_accuracy: 0.2000\n",
            "Epoch 4/10\n",
            "119/119 [==============================] - 88s 738ms/step - loss: 1.9224 - accuracy: 0.6385 - val_loss: 1.8392 - val_accuracy: 0.2449\n",
            "Epoch 5/10\n",
            "119/119 [==============================] - 86s 726ms/step - loss: 1.4707 - accuracy: 0.6506 - val_loss: 3.7534 - val_accuracy: 0.2011\n",
            "Epoch 6/10\n",
            "119/119 [==============================] - 90s 753ms/step - loss: 0.9830 - accuracy: 0.7161 - val_loss: 2.3940 - val_accuracy: 0.2247\n",
            "Epoch 7/10\n",
            "119/119 [==============================] - 88s 735ms/step - loss: 0.8477 - accuracy: 0.7383 - val_loss: 1.6714 - val_accuracy: 0.3775\n",
            "Epoch 8/10\n",
            "119/119 [==============================] - 96s 808ms/step - loss: 0.8601 - accuracy: 0.7465 - val_loss: 1.1491 - val_accuracy: 0.6045\n",
            "Epoch 9/10\n",
            "119/119 [==============================] - 88s 738ms/step - loss: 0.8381 - accuracy: 0.7568 - val_loss: 1.0162 - val_accuracy: 0.6382\n",
            "Epoch 10/10\n",
            "119/119 [==============================] - 88s 740ms/step - loss: 0.6988 - accuracy: 0.7798 - val_loss: 1.0777 - val_accuracy: 0.7034\n"
          ]
        }
      ]
    },
    {
      "cell_type": "code",
      "source": [
        "plt.plot(history.history['loss'], label = 'train_loss')\n",
        "plt.plot(history.history['val_loss'], label ='val loss')\n",
        "plt.legend()\n",
        "plt.show()"
      ],
      "metadata": {
        "colab": {
          "base_uri": "https://localhost:8080/",
          "height": 430
        },
        "id": "UN3HKbAjA2U2",
        "outputId": "344185e9-3603-45d9-ccf9-50e25aef4c2e"
      },
      "execution_count": null,
      "outputs": [
        {
          "output_type": "display_data",
          "data": {
            "text/plain": [
              "<Figure size 640x480 with 1 Axes>"
            ],
            "image/png": "[encoded data removed]"
          },
          "metadata": {}
        }
      ]
    },
    {
      "cell_type": "code",
      "source": [
        "plt.plot(history.history['accuracy'], label = 'train accuracy')\n",
        "plt.plot(history.history['val_accuracy'], label ='val accuracy')\n",
        "plt.legend()\n",
        "plt.show()"
      ],
      "metadata": {
        "colab": {
          "base_uri": "https://localhost:8080/",
          "height": 430
        },
        "id": "Aant0v_JA9fk",
        "outputId": "7b0893fc-4ca5-4b75-8816-c0143145fa13"
      },
      "execution_count": null,
      "outputs": [
        {
          "output_type": "display_data",
          "data": {
            "text/plain": [
              "<Figure size 640x480 with 1 Axes>"
            ],
            "image/png": "[encoded data removed]"
          },
          "metadata": {}
        }
      ]
    },
    {
      "cell_type": "code",
      "source": [
        "from tensorflow.keras.models import load_model\n",
        "model.save('garbage_clf_resnet50.h5')"
      ],
      "metadata": {
        "colab": {
          "base_uri": "https://localhost:8080/"
        },
        "id": "2P1jV6bwBAog",
        "outputId": "506ee668-76e0-4c1b-9e18-52a366211568"
      },
      "execution_count": null,
      "outputs": [
        {
          "output_type": "stream",
          "name": "stderr",
          "text": [
            "/usr/local/lib/python3.10/dist-packages/keras/src/engine/training.py:3103: UserWarning: You are saving your model as an HDF5 file via `model.save()`. This file format is considered legacy. We recommend using instead the native Keras format, e.g. `model.save('my_model.keras')`.\n",
            "  saving_api.save_model(\n"
          ]
        }
      ]
    },
    {
      "cell_type": "code",
      "source": [
        "import shutil\n",
        "\n",
        "# Move the model file to your Google Drive\n",
        "shutil.move(\"garbage_clf_resnet50.h5\", \"/content/drive/My Drive/\")"
      ],
      "metadata": {
        "colab": {
          "base_uri": "https://localhost:8080/",
          "height": 35
        },
        "id": "HJ_iNKngJOdW",
        "outputId": "d378050f-c69c-4573-86d7-6168acd0d356"
      },
      "execution_count": null,
      "outputs": [
        {
          "output_type": "execute_result",
          "data": {
            "text/plain": [
              "'/content/drive/My Drive/garbage_clf_resnet50.h5'"
            ],
            "application/vnd.google.colaboratory.intrinsic+json": {
              "type": "string"
            }
          },
          "metadata": {},
          "execution_count": 33
        }
      ]
    },
    {
      "cell_type": "markdown",
      "source": [
        "Prediction On test data"
      ],
      "metadata": {
        "id": "bi4BqO3bEPFY"
      }
    },
    {
      "cell_type": "code",
      "source": [
        "prediction = model.predict(test_set)"
      ],
      "metadata": {
        "colab": {
          "base_uri": "https://localhost:8080/"
        },
        "id": "a7M2W9v7EQ9z",
        "outputId": "6f93b852-88b2-460a-a673-a7b2d7720333"
      },
      "execution_count": null,
      "outputs": [
        {
          "output_type": "stream",
          "name": "stdout",
          "text": [
            "28/28 [==============================] - 16s 535ms/step\n"
          ]
        }
      ]
    },
    {
      "cell_type": "code",
      "source": [
        "prediction"
      ],
      "metadata": {
        "colab": {
          "base_uri": "https://localhost:8080/"
        },
        "id": "nW1M90Y6ERum",
        "outputId": "0eb05c32-e1ac-4ed8-a9a5-1acf8b845ca8"
      },
      "execution_count": null,
      "outputs": [
        {
          "output_type": "execute_result",
          "data": {
            "text/plain": [
              "array([[0.19895673, 0.20499721, 0.14636025, 0.29720524, 0.13194099,\n",
              "        0.02053955],\n",
              "       [0.02973852, 0.8485556 , 0.02458428, 0.03509017, 0.05752473,\n",
              "        0.00450655],\n",
              "       [0.13809846, 0.12476262, 0.1908673 , 0.19909735, 0.20890631,\n",
              "        0.13826789],\n",
              "       ...,\n",
              "       [0.0512198 , 0.0501191 , 0.163967  , 0.0338035 , 0.51840246,\n",
              "        0.18248814],\n",
              "       [0.11991211, 0.08139088, 0.0950739 , 0.6095621 , 0.08083819,\n",
              "        0.01322284],\n",
              "       [0.03203521, 0.07668163, 0.13646315, 0.0697503 , 0.49438804,\n",
              "        0.19068164]], dtype=float32)"
            ]
          },
          "metadata": {},
          "execution_count": 35
        }
      ]
    },
    {
      "cell_type": "code",
      "source": [
        "prediction = np.argmax(prediction, axis = 1)\n",
        "prediction"
      ],
      "metadata": {
        "colab": {
          "base_uri": "https://localhost:8080/"
        },
        "id": "wJRYbE3fERrE",
        "outputId": "312a1599-eca9-40b2-ee3f-7824dc05c78f"
      },
      "execution_count": null,
      "outputs": [
        {
          "output_type": "execute_result",
          "data": {
            "text/plain": [
              "array([3, 1, 4, 2, 4, 0, 1, 1, 1, 0, 4, 5, 1, 2, 0, 1, 4, 0, 0, 0, 0, 3,\n",
              "       0, 1, 4, 0, 4, 4, 3, 0, 4, 4, 3, 3, 4, 0, 3, 3, 5, 3, 0, 1, 2, 1,\n",
              "       2, 0, 1, 1, 4, 0, 1, 0, 0, 1, 0, 1, 3, 0, 0, 2, 1, 0, 1, 2, 2, 0,\n",
              "       1, 1, 3, 0, 4, 0, 5, 0, 3, 1, 1, 0, 0, 4, 1, 0, 3, 2, 0, 0, 3, 1,\n",
              "       2, 2, 1, 3, 3, 3, 3, 4, 0, 2, 1, 0, 1, 0, 3, 0, 0, 0, 0, 0, 3, 3,\n",
              "       0, 4, 0, 1, 1, 2, 1, 2, 1, 3, 1, 1, 1, 0, 1, 0, 0, 0, 0, 2, 3, 3,\n",
              "       3, 1, 1, 1, 5, 0, 0, 1, 3, 2, 0, 1, 4, 2, 1, 0, 2, 0, 2, 1, 3, 3,\n",
              "       2, 0, 3, 0, 3, 0, 3, 1, 2, 4, 2, 4, 1, 3, 0, 2, 0, 0, 0, 1, 2, 4,\n",
              "       2, 2, 0, 0, 3, 0, 1, 1, 2, 1, 3, 0, 3, 1, 3, 0, 2, 0, 0, 5, 1, 0,\n",
              "       4, 1, 3, 3, 2, 1, 4, 4, 1, 4, 1, 1, 1, 0, 2, 4, 3, 2, 3, 1, 4, 0,\n",
              "       3, 0, 0, 1, 3, 1, 0, 1, 4, 2, 3, 4, 1, 3, 4, 2, 3, 2, 1, 0, 0, 1,\n",
              "       2, 0, 4, 2, 0, 4, 1, 0, 4, 2, 3, 1, 4, 0, 1, 3, 1, 3, 1, 0, 3, 5,\n",
              "       1, 3, 0, 0, 0, 1, 2, 0, 1, 0, 1, 3, 3, 1, 4, 3, 0, 1, 4, 1, 0, 0,\n",
              "       1, 0, 2, 2, 0, 0, 1, 3, 3, 0, 1, 1, 2, 3, 3, 1, 1, 0, 4, 4, 3, 1,\n",
              "       1, 0, 3, 2, 0, 0, 1, 0, 0, 2, 0, 2, 3, 0, 1, 3, 3, 3, 2, 0, 0, 2,\n",
              "       3, 0, 2, 0, 2, 0, 4, 0, 0, 3, 0, 2, 4, 3, 1, 4, 1, 3, 1, 4, 1, 5,\n",
              "       3, 5, 3, 3, 4, 1, 5, 2, 3, 0, 3, 3, 3, 3, 0, 1, 1, 1, 0, 4, 1, 0,\n",
              "       0, 0, 2, 2, 1, 1, 3, 1, 0, 3, 3, 3, 5, 0, 4, 4, 1, 0, 1, 1, 4, 0,\n",
              "       0, 0, 0, 1, 0, 1, 4, 2, 0, 2, 1, 1, 0, 1, 2, 3, 0, 1, 4, 0, 3, 2,\n",
              "       2, 1, 2, 4, 0, 1, 0, 1, 3, 0, 0, 3, 0, 2, 1, 3, 0, 0, 3, 0, 3, 0,\n",
              "       0, 2, 0, 0, 5, 4, 1, 2, 0, 3, 2, 1, 4, 5, 0, 1, 4, 0, 2, 0, 3, 3,\n",
              "       3, 3, 0, 0, 1, 3, 2, 3, 3, 5, 1, 0, 1, 0, 2, 0, 3, 3, 1, 0, 2, 1,\n",
              "       4, 0, 1, 1, 0, 1, 2, 3, 0, 0, 0, 1, 1, 0, 3, 0, 1, 1, 4, 4, 0, 0,\n",
              "       4, 0, 2, 1, 0, 0, 1, 0, 2, 1, 1, 2, 1, 2, 3, 3, 3, 0, 2, 3, 3, 1,\n",
              "       4, 3, 1, 0, 2, 3, 2, 0, 3, 5, 0, 0, 0, 1, 1, 1, 3, 1, 4, 0, 4, 3,\n",
              "       4, 3, 0, 4, 0, 2, 3, 4, 3, 1, 0, 0, 2, 1, 1, 4, 4, 3, 1, 0, 2, 1,\n",
              "       4, 3, 4, 3, 2, 3, 2, 4, 1, 1, 3, 1, 1, 3, 0, 0, 2, 3, 3, 0, 2, 1,\n",
              "       1, 1, 4, 0, 0, 3, 3, 1, 1, 2, 3, 0, 1, 1, 1, 0, 3, 0, 0, 3, 0, 2,\n",
              "       1, 4, 4, 3, 0, 4, 0, 3, 1, 1, 0, 0, 0, 3, 1, 3, 2, 1, 3, 0, 2, 1,\n",
              "       3, 4, 0, 3, 0, 2, 0, 0, 0, 0, 0, 4, 0, 0, 0, 0, 0, 4, 1, 3, 3, 3,\n",
              "       0, 1, 3, 0, 1, 0, 0, 0, 1, 1, 4, 0, 0, 0, 0, 3, 3, 0, 5, 0, 4, 3,\n",
              "       2, 3, 1, 4, 1, 1, 1, 1, 4, 1, 0, 0, 4, 2, 0, 3, 5, 1, 2, 2, 0, 3,\n",
              "       1, 3, 2, 2, 0, 0, 4, 3, 3, 3, 0, 2, 3, 3, 2, 2, 0, 3, 0, 3, 4, 0,\n",
              "       1, 0, 3, 0, 3, 2, 1, 0, 0, 0, 1, 0, 0, 1, 0, 0, 1, 3, 3, 4, 1, 1,\n",
              "       4, 4, 0, 4, 4, 2, 5, 2, 1, 4, 1, 0, 2, 1, 5, 3, 0, 1, 1, 4, 4, 3,\n",
              "       0, 4, 1, 5, 0, 0, 3, 2, 4, 2, 3, 3, 0, 3, 3, 3, 1, 0, 1, 3, 3, 1,\n",
              "       5, 0, 0, 0, 1, 2, 0, 0, 0, 4, 0, 3, 1, 1, 2, 0, 2, 4, 1, 0, 3, 3,\n",
              "       0, 0, 1, 0, 1, 3, 0, 1, 1, 3, 3, 0, 0, 0, 0, 1, 3, 0, 0, 3, 3, 2,\n",
              "       1, 4, 1, 0, 1, 3, 2, 2, 4, 3, 4, 0, 1, 4, 0, 1, 3, 1, 0, 1, 5, 0,\n",
              "       4, 3, 2, 3, 1, 1, 3, 1, 4, 0, 1, 0, 2, 4, 2, 0, 0, 1, 1, 0, 3, 0,\n",
              "       2, 0, 0, 0, 3, 1, 1, 4, 3, 4])"
            ]
          },
          "metadata": {},
          "execution_count": 36
        }
      ]
    },
    {
      "cell_type": "markdown",
      "source": [
        "##VGG_16"
      ],
      "metadata": {
        "id": "_HDgLhzXRwzz"
      }
    },
    {
      "cell_type": "code",
      "source": [
        "\n",
        "import numpy as np\n",
        "import pandas as pd\n",
        "import os\n",
        "from sklearn.model_selection import train_test_split\n",
        "from tensorflow.keras.preprocessing.image import ImageDataGenerator\n",
        "from keras.applications.vgg16 import VGG16\n",
        "from keras import models, layers\n",
        "from keras.optimizers import Adam\n",
        "from sklearn import metrics"
      ],
      "metadata": {
        "id": "8UghcZ6yTIKM"
      },
      "execution_count": null,
      "outputs": []
    },
    {
      "cell_type": "code",
      "source": [
        "train_folder = '/content/drive/MyDrive/Splitted_grabage_dataset/train'\n",
        "all_data = []\n",
        "for folder in os.listdir(train_folder):\n",
        "\n",
        "    label_folder = os.path.join(train_folder, folder)\n",
        "    onlyfiles = [{'label':folder,'path':os.path.join(label_folder, f)} for f in os.listdir(label_folder) if os.path.isfile(os.path.join(label_folder, f))]\n",
        "    #print(onlyfiles)\n",
        "    all_data += onlyfiles\n",
        "data_df = pd.DataFrame(all_data)\n",
        "data_df"
      ],
      "metadata": {
        "colab": {
          "base_uri": "https://localhost:8080/",
          "height": 423
        },
        "id": "MUkGGWdmTAZ3",
        "outputId": "c7750383-b265-42de-acda-382fe34c2ebc"
      },
      "execution_count": null,
      "outputs": [
        {
          "output_type": "execute_result",
          "data": {
            "text/plain": [
              "        label                                               path\n",
              "0     plastic  /content/drive/MyDrive/Splitted_grabage_datase...\n",
              "1     plastic  /content/drive/MyDrive/Splitted_grabage_datase...\n",
              "2     plastic  /content/drive/MyDrive/Splitted_grabage_datase...\n",
              "3     plastic  /content/drive/MyDrive/Splitted_grabage_datase...\n",
              "4     plastic  /content/drive/MyDrive/Splitted_grabage_datase...\n",
              "...       ...                                                ...\n",
              "3782    trash  /content/drive/MyDrive/Splitted_grabage_datase...\n",
              "3783    trash  /content/drive/MyDrive/Splitted_grabage_datase...\n",
              "3784    trash  /content/drive/MyDrive/Splitted_grabage_datase...\n",
              "3785    trash  /content/drive/MyDrive/Splitted_grabage_datase...\n",
              "3786    trash  /content/drive/MyDrive/Splitted_grabage_datase...\n",
              "\n",
              "[3787 rows x 2 columns]"
            ],
            "text/html": [
              "\n",
              "  <div id=\"df-0848a5a0-0317-48b1-98fb-19eca7060587\" class=\"colab-df-container\">\n",
              "    <div>\n",
              "<style scoped>\n",
              "    .dataframe tbody tr th:only-of-type {\n",
              "        vertical-align: middle;\n",
              "    }\n",
              "\n",
              "    .dataframe tbody tr th {\n",
              "        vertical-align: top;\n",
              "    }\n",
              "\n",
              "    .dataframe thead th {\n",
              "        text-align: right;\n",
              "    }\n",
              "</style>\n",
              "<table border=\"1\" class=\"dataframe\">\n",
              "  <thead>\n",
              "    <tr style=\"text-align: right;\">\n",
              "      <th></th>\n",
              "      <th>label</th>\n",
              "      <th>path</th>\n",
              "    </tr>\n",
              "  </thead>\n",
              "  <tbody>\n",
              "    <tr>\n",
              "      <th>0</th>\n",
              "      <td>plastic</td>\n",
              "      <td>/content/drive/MyDrive/Splitted_grabage_datase...</td>\n",
              "    </tr>\n",
              "    <tr>\n",
              "      <th>1</th>\n",
              "      <td>plastic</td>\n",
              "      <td>/content/drive/MyDrive/Splitted_grabage_datase...</td>\n",
              "    </tr>\n",
              "    <tr>\n",
              "      <th>2</th>\n",
              "      <td>plastic</td>\n",
              "      <td>/content/drive/MyDrive/Splitted_grabage_datase...</td>\n",
              "    </tr>\n",
              "    <tr>\n",
              "      <th>3</th>\n",
              "      <td>plastic</td>\n",
              "      <td>/content/drive/MyDrive/Splitted_grabage_datase...</td>\n",
              "    </tr>\n",
              "    <tr>\n",
              "      <th>4</th>\n",
              "      <td>plastic</td>\n",
              "      <td>/content/drive/MyDrive/Splitted_grabage_datase...</td>\n",
              "    </tr>\n",
              "    <tr>\n",
              "      <th>...</th>\n",
              "      <td>...</td>\n",
              "      <td>...</td>\n",
              "    </tr>\n",
              "    <tr>\n",
              "      <th>3782</th>\n",
              "      <td>trash</td>\n",
              "      <td>/content/drive/MyDrive/Splitted_grabage_datase...</td>\n",
              "    </tr>\n",
              "    <tr>\n",
              "      <th>3783</th>\n",
              "      <td>trash</td>\n",
              "      <td>/content/drive/MyDrive/Splitted_grabage_datase...</td>\n",
              "    </tr>\n",
              "    <tr>\n",
              "      <th>3784</th>\n",
              "      <td>trash</td>\n",
              "      <td>/content/drive/MyDrive/Splitted_grabage_datase...</td>\n",
              "    </tr>\n",
              "    <tr>\n",
              "      <th>3785</th>\n",
              "      <td>trash</td>\n",
              "      <td>/content/drive/MyDrive/Splitted_grabage_datase...</td>\n",
              "    </tr>\n",
              "    <tr>\n",
              "      <th>3786</th>\n",
              "      <td>trash</td>\n",
              "      <td>/content/drive/MyDrive/Splitted_grabage_datase...</td>\n",
              "    </tr>\n",
              "  </tbody>\n",
              "</table>\n",
              "<p>3787 rows × 2 columns</p>\n",
              "</div>\n",
              "    <div class=\"colab-df-buttons\">\n",
              "\n",
              "  <div class=\"colab-df-container\">\n",
              "    <button class=\"colab-df-convert\" onclick=\"convertToInteractive('df-0848a5a0-0317-48b1-98fb-19eca7060587')\"\n",
              "            title=\"Convert this dataframe to an interactive table.\"\n",
              "            style=\"display:none;\">\n",
              "\n",
              "  <svg xmlns=\"http://www.w3.org/2000/svg\" height=\"24px\" viewBox=\"0 -960 960 960\">\n",
              "    <path d=\"M120-120v-720h720v720H120Zm60-500h600v-160H180v160Zm220 220h160v-160H400v160Zm0 220h160v-160H400v160ZM180-400h160v-160H180v160Zm440 0h160v-160H620v160ZM180-180h160v-160H180v160Zm440 0h160v-160H620v160Z\"/>\n",
              "  </svg>\n",
              "    </button>\n",
              "\n",
              "  <style>\n",
              "    .colab-df-container {\n",
              "      display:flex;\n",
              "      gap: 12px;\n",
              "    }\n",
              "\n",
              "    .colab-df-convert {\n",
              "      background-color: #E8F0FE;\n",
              "      border: none;\n",
              "      border-radius: 50%;\n",
              "      cursor: pointer;\n",
              "      display: none;\n",
              "      fill: #1967D2;\n",
              "      height: 32px;\n",
              "      padding: 0 0 0 0;\n",
              "      width: 32px;\n",
              "    }\n",
              "\n",
              "    .colab-df-convert:hover {\n",
              "      background-color: #E2EBFA;\n",
              "      box-shadow: 0px 1px 2px rgba(60, 64, 67, 0.3), 0px 1px 3px 1px rgba(60, 64, 67, 0.15);\n",
              "      fill: #174EA6;\n",
              "    }\n",
              "\n",
              "    .colab-df-buttons div {\n",
              "      margin-bottom: 4px;\n",
              "    }\n",
              "\n",
              "    [theme=dark] .colab-df-convert {\n",
              "      background-color: #3B4455;\n",
              "      fill: #D2E3FC;\n",
              "    }\n",
              "\n",
              "    [theme=dark] .colab-df-convert:hover {\n",
              "      background-color: #434B5C;\n",
              "      box-shadow: 0px 1px 3px 1px rgba(0, 0, 0, 0.15);\n",
              "      filter: drop-shadow(0px 1px 2px rgba(0, 0, 0, 0.3));\n",
              "      fill: #FFFFFF;\n",
              "    }\n",
              "  </style>\n",
              "\n",
              "    <script>\n",
              "      const buttonEl =\n",
              "        document.querySelector('#df-0848a5a0-0317-48b1-98fb-19eca7060587 button.colab-df-convert');\n",
              "      buttonEl.style.display =\n",
              "        google.colab.kernel.accessAllowed ? 'block' : 'none';\n",
              "\n",
              "      async function convertToInteractive(key) {\n",
              "        const element = document.querySelector('#df-0848a5a0-0317-48b1-98fb-19eca7060587');\n",
              "        const dataTable =\n",
              "          await google.colab.kernel.invokeFunction('convertToInteractive',\n",
              "                                                    [key], {});\n",
              "        if (!dataTable) return;\n",
              "\n",
              "        const docLinkHtml = 'Like what you see? Visit the ' +\n",
              "          '<a target=\"_blank\" href=https://colab.research.google.com/notebooks/data_table.ipynb>data table notebook</a>'\n",
              "          + ' to learn more about interactive tables.';\n",
              "        element.innerHTML = '';\n",
              "        dataTable['output_type'] = 'display_data';\n",
              "        await google.colab.output.renderOutput(dataTable, element);\n",
              "        const docLink = document.createElement('div');\n",
              "        docLink.innerHTML = docLinkHtml;\n",
              "        element.appendChild(docLink);\n",
              "      }\n",
              "    </script>\n",
              "  </div>\n",
              "\n",
              "\n",
              "<div id=\"df-c9225d14-d1ce-4d37-ab8a-cc264666f84e\">\n",
              "  <button class=\"colab-df-quickchart\" onclick=\"quickchart('df-c9225d14-d1ce-4d37-ab8a-cc264666f84e')\"\n",
              "            title=\"Suggest charts\"\n",
              "            style=\"display:none;\">\n",
              "\n",
              "<svg xmlns=\"http://www.w3.org/2000/svg\" height=\"24px\"viewBox=\"0 0 24 24\"\n",
              "     width=\"24px\">\n",
              "    <g>\n",
              "        <path d=\"M19 3H5c-1.1 0-2 .9-2 2v14c0 1.1.9 2 2 2h14c1.1 0 2-.9 2-2V5c0-1.1-.9-2-2-2zM9 17H7v-7h2v7zm4 0h-2V7h2v10zm4 0h-2v-4h2v4z\"/>\n",
              "    </g>\n",
              "</svg>\n",
              "  </button>\n",
              "\n",
              "<style>\n",
              "  .colab-df-quickchart {\n",
              "      --bg-color: #E8F0FE;\n",
              "      --fill-color: #1967D2;\n",
              "      --hover-bg-color: #E2EBFA;\n",
              "      --hover-fill-color: #174EA6;\n",
              "      --disabled-fill-color: #AAA;\n",
              "      --disabled-bg-color: #DDD;\n",
              "  }\n",
              "\n",
              "  [theme=dark] .colab-df-quickchart {\n",
              "      --bg-color: #3B4455;\n",
              "      --fill-color: #D2E3FC;\n",
              "      --hover-bg-color: #434B5C;\n",
              "      --hover-fill-color: #FFFFFF;\n",
              "      --disabled-bg-color: #3B4455;\n",
              "      --disabled-fill-color: #666;\n",
              "  }\n",
              "\n",
              "  .colab-df-quickchart {\n",
              "    background-color: var(--bg-color);\n",
              "    border: none;\n",
              "    border-radius: 50%;\n",
              "    cursor: pointer;\n",
              "    display: none;\n",
              "    fill: var(--fill-color);\n",
              "    height: 32px;\n",
              "    padding: 0;\n",
              "    width: 32px;\n",
              "  }\n",
              "\n",
              "  .colab-df-quickchart:hover {\n",
              "    background-color: var(--hover-bg-color);\n",
              "    box-shadow: 0 1px 2px rgba(60, 64, 67, 0.3), 0 1px 3px 1px rgba(60, 64, 67, 0.15);\n",
              "    fill: var(--button-hover-fill-color);\n",
              "  }\n",
              "\n",
              "  .colab-df-quickchart-complete:disabled,\n",
              "  .colab-df-quickchart-complete:disabled:hover {\n",
              "    background-color: var(--disabled-bg-color);\n",
              "    fill: var(--disabled-fill-color);\n",
              "    box-shadow: none;\n",
              "  }\n",
              "\n",
              "  .colab-df-spinner {\n",
              "    border: 2px solid var(--fill-color);\n",
              "    border-color: transparent;\n",
              "    border-bottom-color: var(--fill-color);\n",
              "    animation:\n",
              "      spin 1s steps(1) infinite;\n",
              "  }\n",
              "\n",
              "  @keyframes spin {\n",
              "    0% {\n",
              "      border-color: transparent;\n",
              "      border-bottom-color: var(--fill-color);\n",
              "      border-left-color: var(--fill-color);\n",
              "    }\n",
              "    20% {\n",
              "      border-color: transparent;\n",
              "      border-left-color: var(--fill-color);\n",
              "      border-top-color: var(--fill-color);\n",
              "    }\n",
              "    30% {\n",
              "      border-color: transparent;\n",
              "      border-left-color: var(--fill-color);\n",
              "      border-top-color: var(--fill-color);\n",
              "      border-right-color: var(--fill-color);\n",
              "    }\n",
              "    40% {\n",
              "      border-color: transparent;\n",
              "      border-right-color: var(--fill-color);\n",
              "      border-top-color: var(--fill-color);\n",
              "    }\n",
              "    60% {\n",
              "      border-color: transparent;\n",
              "      border-right-color: var(--fill-color);\n",
              "    }\n",
              "    80% {\n",
              "      border-color: transparent;\n",
              "      border-right-color: var(--fill-color);\n",
              "      border-bottom-color: var(--fill-color);\n",
              "    }\n",
              "    90% {\n",
              "      border-color: transparent;\n",
              "      border-bottom-color: var(--fill-color);\n",
              "    }\n",
              "  }\n",
              "</style>\n",
              "\n",
              "  <script>\n",
              "    async function quickchart(key) {\n",
              "      const quickchartButtonEl =\n",
              "        document.querySelector('#' + key + ' button');\n",
              "      quickchartButtonEl.disabled = true;  // To prevent multiple clicks.\n",
              "      quickchartButtonEl.classList.add('colab-df-spinner');\n",
              "      try {\n",
              "        const charts = await google.colab.kernel.invokeFunction(\n",
              "            'suggestCharts', [key], {});\n",
              "      } catch (error) {\n",
              "        console.error('Error during call to suggestCharts:', error);\n",
              "      }\n",
              "      quickchartButtonEl.classList.remove('colab-df-spinner');\n",
              "      quickchartButtonEl.classList.add('colab-df-quickchart-complete');\n",
              "    }\n",
              "    (() => {\n",
              "      let quickchartButtonEl =\n",
              "        document.querySelector('#df-c9225d14-d1ce-4d37-ab8a-cc264666f84e button');\n",
              "      quickchartButtonEl.style.display =\n",
              "        google.colab.kernel.accessAllowed ? 'block' : 'none';\n",
              "    })();\n",
              "  </script>\n",
              "</div>\n",
              "\n",
              "  <div id=\"id_353a2234-afd3-4d45-9c62-377e42adad1a\">\n",
              "    <style>\n",
              "      .colab-df-generate {\n",
              "        background-color: #E8F0FE;\n",
              "        border: none;\n",
              "        border-radius: 50%;\n",
              "        cursor: pointer;\n",
              "        display: none;\n",
              "        fill: #1967D2;\n",
              "        height: 32px;\n",
              "        padding: 0 0 0 0;\n",
              "        width: 32px;\n",
              "      }\n",
              "\n",
              "      .colab-df-generate:hover {\n",
              "        background-color: #E2EBFA;\n",
              "        box-shadow: 0px 1px 2px rgba(60, 64, 67, 0.3), 0px 1px 3px 1px rgba(60, 64, 67, 0.15);\n",
              "        fill: #174EA6;\n",
              "      }\n",
              "\n",
              "      [theme=dark] .colab-df-generate {\n",
              "        background-color: #3B4455;\n",
              "        fill: #D2E3FC;\n",
              "      }\n",
              "\n",
              "      [theme=dark] .colab-df-generate:hover {\n",
              "        background-color: #434B5C;\n",
              "        box-shadow: 0px 1px 3px 1px rgba(0, 0, 0, 0.15);\n",
              "        filter: drop-shadow(0px 1px 2px rgba(0, 0, 0, 0.3));\n",
              "        fill: #FFFFFF;\n",
              "      }\n",
              "    </style>\n",
              "    <button class=\"colab-df-generate\" onclick=\"generateWithVariable('data_df')\"\n",
              "            title=\"Generate code using this dataframe.\"\n",
              "            style=\"display:none;\">\n",
              "\n",
              "  <svg xmlns=\"http://www.w3.org/2000/svg\" height=\"24px\"viewBox=\"0 0 24 24\"\n",
              "       width=\"24px\">\n",
              "    <path d=\"M7,19H8.4L18.45,9,17,7.55,7,17.6ZM5,21V16.75L18.45,3.32a2,2,0,0,1,2.83,0l1.4,1.43a1.91,1.91,0,0,1,.58,1.4,1.91,1.91,0,0,1-.58,1.4L9.25,21ZM18.45,9,17,7.55Zm-12,3A5.31,5.31,0,0,0,4.9,8.1,5.31,5.31,0,0,0,1,6.5,5.31,5.31,0,0,0,4.9,4.9,5.31,5.31,0,0,0,6.5,1,5.31,5.31,0,0,0,8.1,4.9,5.31,5.31,0,0,0,12,6.5,5.46,5.46,0,0,0,6.5,12Z\"/>\n",
              "  </svg>\n",
              "    </button>\n",
              "    <script>\n",
              "      (() => {\n",
              "      const buttonEl =\n",
              "        document.querySelector('#id_353a2234-afd3-4d45-9c62-377e42adad1a button.colab-df-generate');\n",
              "      buttonEl.style.display =\n",
              "        google.colab.kernel.accessAllowed ? 'block' : 'none';\n",
              "\n",
              "      buttonEl.onclick = () => {\n",
              "        google.colab.notebook.generateWithVariable('data_df');\n",
              "      }\n",
              "      })();\n",
              "    </script>\n",
              "  </div>\n",
              "\n",
              "    </div>\n",
              "  </div>\n"
            ],
            "application/vnd.google.colaboratory.intrinsic+json": {
              "type": "dataframe",
              "variable_name": "data_df",
              "summary": "{\n  \"name\": \"data_df\",\n  \"rows\": 3787,\n  \"fields\": [\n    {\n      \"column\": \"label\",\n      \"properties\": {\n        \"dtype\": \"category\",\n        \"num_unique_values\": 6,\n        \"samples\": [\n          \"plastic\",\n          \"cardboard\",\n          \"trash\"\n        ],\n        \"semantic_type\": \"\",\n        \"description\": \"\"\n      }\n    },\n    {\n      \"column\": \"path\",\n      \"properties\": {\n        \"dtype\": \"string\",\n        \"num_unique_values\": 3787,\n        \"samples\": [\n          \"/content/drive/MyDrive/Splitted_grabage_dataset/train/biological/biological588.jpg\",\n          \"/content/drive/MyDrive/Splitted_grabage_dataset/train/metal/metal65.jpg\",\n          \"/content/drive/MyDrive/Splitted_grabage_dataset/train/plastic/plastic576.jpg\"\n        ],\n        \"semantic_type\": \"\",\n        \"description\": \"\"\n      }\n    }\n  ]\n}"
            }
          },
          "metadata": {},
          "execution_count": 2
        }
      ]
    },
    {
      "cell_type": "code",
      "source": [
        "img_width, img_height = 128, 128\n",
        "batch_size = 128\n",
        "y_col = 'label'\n",
        "x_col = 'path'\n",
        "no_of_classes = len(data_df[y_col].unique())"
      ],
      "metadata": {
        "id": "cdfu0EMqTAWU"
      },
      "execution_count": null,
      "outputs": []
    },
    {
      "cell_type": "code",
      "source": [
        "import tensorflow as tf\n",
        "\n",
        "train_ds = tf.keras.utils.image_dataset_from_directory(\n",
        "  \"/content/drive/MyDrive/Splitted_grabage_dataset/train\",\n",
        "  image_size=(img_height, img_width),\n",
        "  batch_size=batch_size,\n",
        "  label_mode=\"categorical\")\n",
        "\n",
        "val_ds = tf.keras.utils.image_dataset_from_directory(\n",
        "  \"/content/drive/MyDrive/Splitted_grabage_dataset/val\",\n",
        "  image_size=(img_height, img_width),\n",
        "  batch_size=batch_size,\n",
        "  label_mode=\"categorical\")"
      ],
      "metadata": {
        "colab": {
          "base_uri": "https://localhost:8080/"
        },
        "id": "Fdmq39KSTAUH",
        "outputId": "5853b06f-05a5-4197-bef2-915fe5fb0921"
      },
      "execution_count": null,
      "outputs": [
        {
          "output_type": "stream",
          "name": "stdout",
          "text": [
            "Found 3787 files belonging to 6 classes.\n",
            "Found 890 files belonging to 6 classes.\n"
          ]
        }
      ]
    },
    {
      "cell_type": "code",
      "source": [
        "from keras.applications.vgg16 import VGG16"
      ],
      "metadata": {
        "id": "d8zbVPfaRqti"
      },
      "execution_count": null,
      "outputs": []
    },
    {
      "cell_type": "code",
      "source": [
        "base_model = VGG16(weights = \"imagenet\", include_top = False, input_shape = (128, 128, 3))\n",
        "base_model.trainable = False ## Immutable base model"
      ],
      "metadata": {
        "colab": {
          "base_uri": "https://localhost:8080/"
        },
        "id": "bq39pgUUERov",
        "outputId": "3c254de7-0524-4638-af2a-2b35329b76ba"
      },
      "execution_count": null,
      "outputs": [
        {
          "output_type": "stream",
          "name": "stdout",
          "text": [
            "Downloading data from https://storage.googleapis.com/tensorflow/keras-applications/vgg16/vgg16_weights_tf_dim_ordering_tf_kernels_notop.h5\n",
            "58889256/58889256 [==============================] - 0s 0us/step\n"
          ]
        }
      ]
    },
    {
      "cell_type": "code",
      "source": [
        "from keras import regularizers\n",
        "from keras import models, layers\n",
        "from keras.optimizers import Adam\n",
        "from sklearn import metrics"
      ],
      "metadata": {
        "id": "Zt2iBCSYR2vJ"
      },
      "execution_count": null,
      "outputs": []
    },
    {
      "cell_type": "code",
      "source": [
        "classes = 6\n",
        "epochs = 10\n",
        "learning_rate = 0.0001"
      ],
      "metadata": {
        "id": "CgDHGnCSU0rR"
      },
      "execution_count": null,
      "outputs": []
    },
    {
      "cell_type": "code",
      "source": [
        "flatten_layer = layers.Flatten()\n",
        "dense_layer_1 = layers.Dense(512, kernel_regularizer=regularizers.l2(0.01), activation='relu')\n",
        "dropout_layer_1 = layers.Dropout(0.5)\n",
        "prediction_layer = layers.Dense(classes, activation='softmax')"
      ],
      "metadata": {
        "id": "AP4N0AU3R69s"
      },
      "execution_count": null,
      "outputs": []
    },
    {
      "cell_type": "code",
      "source": [
        "model = models.Sequential([\n",
        "    base_model,\n",
        "    flatten_layer,\n",
        "    dense_layer_1,\n",
        "    dropout_layer_1,\n",
        "    prediction_layer\n",
        "])"
      ],
      "metadata": {
        "id": "WtzFOZZUUwxC"
      },
      "execution_count": null,
      "outputs": []
    },
    {
      "cell_type": "code",
      "source": [
        "model.summary()"
      ],
      "metadata": {
        "colab": {
          "base_uri": "https://localhost:8080/"
        },
        "id": "kxhMtONOSBM3",
        "outputId": "0d6219d4-ff02-43c2-c596-1569caf05bd0"
      },
      "execution_count": null,
      "outputs": [
        {
          "output_type": "stream",
          "name": "stdout",
          "text": [
            "Model: \"sequential\"\n",
            "_________________________________________________________________\n",
            " Layer (type)                Output Shape              Param #   \n",
            "=================================================================\n",
            " vgg16 (Functional)          (None, 4, 4, 512)         14714688  \n",
            "                                                                 \n",
            " flatten (Flatten)           (None, 8192)              0         \n",
            "                                                                 \n",
            " dense (Dense)               (None, 512)               4194816   \n",
            "                                                                 \n",
            " dropout (Dropout)           (None, 512)               0         \n",
            "                                                                 \n",
            " dense_1 (Dense)             (None, 6)                 3078      \n",
            "                                                                 \n",
            "=================================================================\n",
            "Total params: 18912582 (72.15 MB)\n",
            "Trainable params: 4197894 (16.01 MB)\n",
            "Non-trainable params: 14714688 (56.13 MB)\n",
            "_________________________________________________________________\n"
          ]
        }
      ]
    },
    {
      "cell_type": "code",
      "source": [
        "model = models.Sequential([\n",
        "    base_model,\n",
        "    flatten_layer,\n",
        "    dense_layer_1,\n",
        "    dropout_layer_1,\n",
        "    prediction_layer\n",
        "])"
      ],
      "metadata": {
        "id": "7d_W7QgjSLI2"
      },
      "execution_count": null,
      "outputs": []
    },
    {
      "cell_type": "code",
      "source": [
        "from tensorflow.keras import layers, models, optimizers"
      ],
      "metadata": {
        "id": "A6R9DAjKVAnX"
      },
      "execution_count": null,
      "outputs": []
    },
    {
      "cell_type": "code",
      "source": [
        "learning_rate = 0.0001\n",
        "adam = optimizers.Adam(learning_rate=learning_rate)\n",
        "model.compile(optimizer=adam, loss='categorical_crossentropy', metrics=['accuracy'])\n",
        "\n",
        "# Train the model\n",
        "history = model.fit(train_ds,\n",
        "                    epochs=epochs,\n",
        "                    verbose=1,\n",
        "                    validation_data=val_ds,\n",
        "                    shuffle=True)"
      ],
      "metadata": {
        "colab": {
          "base_uri": "https://localhost:8080/"
        },
        "id": "s0_IfJ5ISbq8",
        "outputId": "d09aab2a-cee3-4917-edb8-6a1781c6a80b"
      },
      "execution_count": null,
      "outputs": [
        {
          "output_type": "stream",
          "name": "stdout",
          "text": [
            "Epoch 1/10\n",
            "30/30 [==============================] - 719s 19s/step - loss: 20.4913 - accuracy: 0.5516 - val_loss: 11.9840 - val_accuracy: 0.8270\n",
            "Epoch 2/10\n",
            "30/30 [==============================] - 16s 441ms/step - loss: 12.2521 - accuracy: 0.8120 - val_loss: 10.9887 - val_accuracy: 0.8629\n",
            "Epoch 3/10\n",
            "30/30 [==============================] - 16s 446ms/step - loss: 10.8533 - accuracy: 0.8537 - val_loss: 10.6035 - val_accuracy: 0.8820\n",
            "Epoch 4/10\n",
            "30/30 [==============================] - 16s 452ms/step - loss: 10.0328 - accuracy: 0.9060 - val_loss: 10.3988 - val_accuracy: 0.8910\n",
            "Epoch 5/10\n",
            "30/30 [==============================] - 16s 429ms/step - loss: 9.7119 - accuracy: 0.9195 - val_loss: 10.2578 - val_accuracy: 0.8876\n",
            "Epoch 6/10\n",
            "30/30 [==============================] - 17s 449ms/step - loss: 9.4141 - accuracy: 0.9332 - val_loss: 10.0677 - val_accuracy: 0.9000\n",
            "Epoch 7/10\n",
            "30/30 [==============================] - 16s 427ms/step - loss: 9.1285 - accuracy: 0.9490 - val_loss: 9.9140 - val_accuracy: 0.8966\n",
            "Epoch 8/10\n",
            "30/30 [==============================] - 17s 461ms/step - loss: 8.9750 - accuracy: 0.9562 - val_loss: 9.7985 - val_accuracy: 0.9056\n",
            "Epoch 9/10\n",
            "30/30 [==============================] - 16s 451ms/step - loss: 8.8008 - accuracy: 0.9649 - val_loss: 9.6777 - val_accuracy: 0.9045\n",
            "Epoch 10/10\n",
            "30/30 [==============================] - 16s 422ms/step - loss: 8.6765 - accuracy: 0.9696 - val_loss: 9.5358 - val_accuracy: 0.9045\n"
          ]
        }
      ]
    },
    {
      "cell_type": "code",
      "source": [
        "import matplotlib.pyplot as plt"
      ],
      "metadata": {
        "id": "afSGCCwqU9ND"
      },
      "execution_count": null,
      "outputs": []
    },
    {
      "cell_type": "code",
      "source": [
        "plt.plot(history.history['accuracy'])\n",
        "plt.plot(history.history['val_accuracy'])\n",
        "plt.title('model accuracy')\n",
        "plt.ylabel('accuracy')\n",
        "plt.xlabel('epoch')\n",
        "plt.legend(['train', 'test'], loc='upper left')\n",
        "plt.show()"
      ],
      "metadata": {
        "colab": {
          "base_uri": "https://localhost:8080/",
          "height": 472
        },
        "id": "H4BRAoY1hBr1",
        "outputId": "9d95937c-a4b8-4c3f-9803-bb3a2c366222"
      },
      "execution_count": null,
      "outputs": [
        {
          "output_type": "display_data",
          "data": {
            "text/plain": [
              "<Figure size 640x480 with 1 Axes>"
            ],
            "image/png": "[encoded data removed]"
          },
          "metadata": {}
        }
      ]
    },
    {
      "cell_type": "code",
      "source": [
        "plt.plot(history.history['loss'])\n",
        "plt.plot(history.history['val_loss'])\n",
        "plt.title('model loss')\n",
        "plt.ylabel('loss')\n",
        "plt.xlabel('epoch')\n",
        "plt.legend(['train', 'test'], loc='upper left')\n",
        "plt.show()"
      ],
      "metadata": {
        "colab": {
          "base_uri": "https://localhost:8080/",
          "height": 472
        },
        "id": "a0a_7fT6hBos",
        "outputId": "c70cfcb1-e01f-4dc1-f56a-2445628d3415"
      },
      "execution_count": null,
      "outputs": [
        {
          "output_type": "display_data",
          "data": {
            "text/plain": [
              "<Figure size 640x480 with 1 Axes>"
            ],
            "image/png": "[encoded data removed]"
          },
          "metadata": {}
        }
      ]
    },
    {
      "cell_type": "code",
      "source": [
        "print(\"Training Accuracy: \", history.history['accuracy'][-1]*100, \"%\")"
      ],
      "metadata": {
        "colab": {
          "base_uri": "https://localhost:8080/"
        },
        "id": "TKSpVMmqhBm3",
        "outputId": "c5676bb8-0183-456b-ae23-90d740e67d35"
      },
      "execution_count": null,
      "outputs": [
        {
          "output_type": "stream",
          "name": "stdout",
          "text": [
            "Training Accuracy:  96.96329832077026 %\n"
          ]
        }
      ]
    },
    {
      "cell_type": "code",
      "source": [
        "print(\"Testing Accuracy: \", history.history['val_accuracy'][-1]*100, \"%\")"
      ],
      "metadata": {
        "colab": {
          "base_uri": "https://localhost:8080/"
        },
        "id": "AJibVcWihBk8",
        "outputId": "209b8e5a-6c24-4879-9a08-bb4079dea531"
      },
      "execution_count": null,
      "outputs": [
        {
          "output_type": "stream",
          "name": "stdout",
          "text": [
            "Testing Accuracy:  90.44944047927856 %\n"
          ]
        }
      ]
    },
    {
      "cell_type": "code",
      "source": [
        "model.save(\"/content/drive/My Drive/VGG_GC_model.h5\")"
      ],
      "metadata": {
        "colab": {
          "base_uri": "https://localhost:8080/"
        },
        "id": "myuV0fhihTsE",
        "outputId": "bc1f488d-cb89-40aa-9086-badcae24d973"
      },
      "execution_count": null,
      "outputs": [
        {
          "output_type": "stream",
          "name": "stderr",
          "text": [
            "/usr/local/lib/python3.10/dist-packages/keras/src/engine/training.py:3103: UserWarning: You are saving your model as an HDF5 file via `model.save()`. This file format is considered legacy. We recommend using instead the native Keras format, e.g. `model.save('my_model.keras')`.\n",
            "  saving_api.save_model(\n"
          ]
        }
      ]
    },
    {
      "cell_type": "code",
      "source": [],
      "metadata": {
        "id": "fBiMvxex_W0h"
      },
      "execution_count": null,
      "outputs": []
    },
    {
      "cell_type": "code",
      "source": [],
      "metadata": {
        "id": "8eGE2cPs_WyZ"
      },
      "execution_count": null,
      "outputs": []
    },
    {
      "cell_type": "code",
      "source": [],
      "metadata": {
        "id": "2pEJhx8q_Wv5"
      },
      "execution_count": null,
      "outputs": []
    },
    {
      "cell_type": "code",
      "source": [],
      "metadata": {
        "id": "B7u_kOpG_WtK"
      },
      "execution_count": null,
      "outputs": []
    }
  ]
}